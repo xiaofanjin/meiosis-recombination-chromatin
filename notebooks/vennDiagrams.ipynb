{
 "cells": [
  {
   "cell_type": "code",
   "execution_count": null,
   "metadata": {},
   "outputs": [],
   "source": [
    "from matplotlib_venn import venn3, venn3_circles\n",
    "import numpy as np\n",
    "import pandas as pd\n",
    "import bioframe\n",
    "import glob\n",
    "import os\n",
    "from cooltools import snipping\n",
    "import cooler\n",
    "import matplotlib.pyplot as plt\n",
    "plt.rcParams.update({'font.size': 16})\n",
    "binsDf=pd.read_csv('/path/to/mm10bin5kb.bed',sep='\\t',header=None,names=['chrom','start','end']) #mm10bin5kb.bed file make using cooler makebins\n",
    "chromsizes=bioframe.fetch_chromsizes('mm10')\n",
    "chromosomes = list(chromsizes.index)\n",
    "supports = [(chrom, 0, chromsizes[chrom]) for chrom in chromosomes]\n",
    "saveDir='/path/to/outputs/'"
   ]
  },
  {
   "cell_type": "code",
   "execution_count": null,
   "metadata": {},
   "outputs": [],
   "source": [
    "def makeVenn3(setList, setLabels, colourList=None, alpha=0.5, saveName=None):\n",
    "    v=venn3(setList,set_labels = setLabels)\n",
    "    c=venn3_circles(setList)\n",
    "    if colourList is not None:\n",
    "        for patchInd in range(1,8):\n",
    "            try:\n",
    "                v.get_patch_by_id(np.binary_repr(patchInd, width=3)).set_color('white')\n",
    "            except:\n",
    "                pass\n",
    "    for groupInd in range(3):\n",
    "        if colourList is not None:\n",
    "            c[groupInd].set_color(colourList[groupInd])\n",
    "        c[groupInd].set_alpha(alpha)\n",
    "    if saveName!=None:\n",
    "        plt.savefig(saveName)\n",
    "        \n",
    "def getPeakInds(peakFile,binsize=5000,flank=300000,supports=supports,binsDf=binsDf):\n",
    "    peakDf=pd.read_csv(peakFile,header=None,sep=\"\\t\",names=['chrom','start','end','name','score','strand','signalValue','pvalue','qvalue','peak'])\n",
    "    windows = snipping.make_bin_aligned_windows(\n",
    "        binsize,\n",
    "        peakDf['chrom'],\n",
    "        (peakDf['start'] + peakDf['end'])//2,\n",
    "        flank_bp=flank)\n",
    "    windows=windows.merge(pd.DataFrame(supports,columns=['chrom','zero','chromsize']),how='left',on='chrom')\n",
    "    windows=windows[(windows.end<windows.chromsize) & (windows.start>0)].drop_duplicates()\n",
    "    windows=windows.loc[(windows.chrom!='chrX')&(windows.chrom!='chrY')&(windows.chrom!='chrM'),:]\n",
    "    startInds=binsDf.reset_index().merge(windows[['chrom','start']],how='inner',on=['chrom','start'])['index']\n",
    "    endInds=binsDf.reset_index().merge(windows[['chrom','end']],how='inner',on=['chrom','end'])['index']\n",
    "    indDf=pd.DataFrame({'startInd':startInds,'endInd':endInds})\n",
    "    return ((indDf.startInd+indDf.endInd)//2).values"
   ]
  },
  {
   "cell_type": "code",
   "execution_count": null,
   "metadata": {},
   "outputs": [],
   "source": [
    "peakFiles=glob.glob('/path/to/peak/bedfiles/*')\n",
    "peakIndsDict=dict(zip([os.path.basename(file).split('.')[0] for file in peakFiles],[getPeakInds(file) for file in peakFiles]))"
   ]
  },
  {
   "cell_type": "code",
   "execution_count": null,
   "metadata": {},
   "outputs": [],
   "source": [
    "cats=['Baker2015_prdm9_B6xCAST_peaks','grey2017orig_PRDM9_RJ2_class1_peaks','grey2017orig_PRDM9_B6_class1_peaks']\n",
    "makeVenn3(setList=[set(peakIndsDict[cat]) for cat in cats], \n",
    "          setLabels=['PRDM9 sites\\n(Baker 2015)','PRDM9-CAST\\nClass1 sites\\n(Grey 2017)','PRDM9-B6\\nClass1 sites\\n(Grey 2017)'], \n",
    "          alpha=0.5, saveName=f'{saveDir}/vennBakervsGreyC1.pdf')"
   ]
  },
  {
   "cell_type": "code",
   "execution_count": null,
   "metadata": {},
   "outputs": [],
   "source": [
    "cats=['Baker2015_prdm9_B6xCAST_peaks','grey2017orig_PRDM9_RJ2_class2_peaks','grey2017orig_PRDM9_B6_class2_peaks']\n",
    "makeVenn3(setList=[set(peakIndsDict[cat]) for cat in cats], \n",
    "          setLabels=['PRDM9 sites\\n(Baker 2015)','PRDM9-CAST\\nClass2 sites\\n(Grey 2017)','PRDM9-B6\\nClass2 sites\\n(Grey 2017)'], \n",
    "          alpha=0.5, saveName=f'{saveDir}/vennBakervsGreyC2.pdf')"
   ]
  },
  {
   "cell_type": "code",
   "execution_count": null,
   "metadata": {},
   "outputs": [],
   "source": [
    "cats=['Baker2015_prdm9_B6xCAST_peaks','smagulova2016_B6xCAST_DSB_fraglen1000_peaks','grey2017orig_PRDM9_RJ2_class2_peaks']\n",
    "makeVenn3(setList=[set(peakIndsDict[cat]) for cat in cats], \n",
    "          setLabels=cats, \n",
    "          alpha=0.5, saveName=None)"
   ]
  },
  {
   "cell_type": "code",
   "execution_count": null,
   "metadata": {},
   "outputs": [],
   "source": [
    "cats=['vara2019_PDctcf_peaks','margolin2014RNAPII16dpp_peaks','vara2019_PDrad21l_peaks']\n",
    "makeVenn3(setList=[set(peakIndsDict[cat]) for cat in cats], \n",
    "          setLabels=['Meiotic\\nCTCF sites\\n(Vara 2019)','Meiotic\\nRNAPII sites\\n(Margolin 2014)','Meiotic\\nRAD21L sites\\n(Vara 2019)'], \n",
    "          alpha=0.5, saveName=f'{saveDir}/vennMeioticCCR.pdf')"
   ]
  },
  {
   "cell_type": "code",
   "execution_count": null,
   "metadata": {},
   "outputs": [],
   "source": [
    "cats=['Nitzsche2011_ESC_RAD21_peaks','vara2019_PDrec8_peaks','vara2019_PDrad21l_peaks']\n",
    "makeVenn3(setList=[set(peakIndsDict[cat]) for cat in cats], \n",
    "          setLabels=['ES RAD21 sites\\n(Nitzsche 2011)','Meiotic\\nREC8 sites\\n(Vara 2019)','Meiotic\\nRAD21L sites\\n(Vara 2019)'], \n",
    "          alpha=0.5, saveName=f'{saveDir}/vennCohesins.pdf')"
   ]
  },
  {
   "cell_type": "code",
   "execution_count": null,
   "metadata": {},
   "outputs": [],
   "source": [
    "cats=['Nitzsche2011_ESC_RAD21_peaks','Nitzsche2011_ESC_CTCF_peaks','ES_RNAP2_peaks']\n",
    "makeVenn3(setList=[set(peakIndsDict[cat]) for cat in cats], \n",
    "          setLabels=['ES RAD21 sites\\n(Nitzsche 2011)','ES CTCF sites\\n(Nitzsche 2011)','ES RNAPII sites\\n(ENCODE)'], \n",
    "          alpha=0.5, saveName=f'{saveDir}/vennESCCR.pdf')"
   ]
  },
  {
   "cell_type": "code",
   "execution_count": null,
   "metadata": {},
   "outputs": [],
   "source": []
  }
 ],
 "metadata": {
  "kernelspec": {
   "display_name": "Python 3",
   "language": "python",
   "name": "python3"
  },
  "language_info": {
   "codemirror_mode": {
    "name": "ipython",
    "version": 3
   },
   "file_extension": ".py",
   "mimetype": "text/x-python",
   "name": "python",
   "nbconvert_exporter": "python",
   "pygments_lexer": "ipython3",
   "version": "3.7.6"
  }
 },
 "nbformat": 4,
 "nbformat_minor": 4
}
