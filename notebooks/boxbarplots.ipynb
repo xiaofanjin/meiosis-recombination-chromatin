{
 "cells": [
  {
   "cell_type": "code",
   "execution_count": null,
   "metadata": {},
   "outputs": [],
   "source": [
    "from cooltools import snipping\n",
    "import cooler\n",
    "import pandas as pd\n",
    "from scipy.stats import ttest_ind\n",
    "import numpy as np\n",
    "import pybedtools\n",
    "import bioframe\n",
    "import seaborn as sns\n",
    "import matplotlib.pyplot as plt\n",
    "import glob\n",
    "import os\n"
   ]
  },
  {
   "cell_type": "code",
   "execution_count": null,
   "metadata": {},
   "outputs": [],
   "source": [
    "plt.rcParams.update({'font.size': 24})\n",
    "chromsizes=bioframe.fetch_chromsizes('mm10')\n",
    "chromosomes = list(chromsizes.index)\n",
    "supports = [(chrom, 0, chromsizes[chrom]) for chrom in chromosomes]\n",
    "binsize=5000\n",
    "flank=0\n",
    "\n",
    "binsDf=pd.read_csv('../data/genomeInfo/mm10bin5kb.bed',sep='\\t',header=None,names=['chrom','start','end']) #bin file can be made with cooler makebins, binsize = 5000\n",
    "\n",
    "signalFiles=glob.glob('../data/binnedBedgraphs/*')\n",
    "signalDf=binsDf.copy()\n",
    "for signalFile in signalFiles:\n",
    "    signalDf=signalDf.merge(pd.read_csv(signalFile,sep=\"\\t\", header=None,names=['chrom','start','end',os.path.basename(signalFile).split('.')[0]]),how='left',on=['chrom','start','end'])\n",
    "    signalDf.drop_duplicates(subset=['chrom','start','end'],inplace=True)\n",
    "\n",
    "chromHMMdict={1:'H3K4me3', \n",
    "       2:'H3K4me1/3',\n",
    "       3:'H3K4me1',\n",
    "       4:'H3K4me1+\\nH3K36me3',\n",
    "       5:'H3K36me3',\n",
    "       6:'Unmarked',\n",
    "       7:'H3K27me3'}\n",
    "palette=[(1,0,0),\n",
    "         (1,.6,0),\n",
    "         (1,1,0),\n",
    "         (.6,.8,0),\n",
    "         (0,.6,.4),\n",
    "         (.6,.6,.6),\n",
    "         (0,0,1)]"
   ]
  },
  {
   "cell_type": "code",
   "execution_count": null,
   "metadata": {},
   "outputs": [],
   "source": [
    "def getPeakDf(peakFile):\n",
    "    return pd.read_csv(peakFile,header=None,sep=\"\\t\",names=['chrom','start','end','name','score','strand','signalValue','pvalue','qvalue','peak'])\n",
    "\n",
    "def plotCompartmentFractions(countDf,saveName=None):\n",
    "    plt.figure(figsize=(0.5*countDf.shape[0],3))\n",
    "    if 'ChIP-seq peaks' in countDf.columns:\n",
    "        sns.barplot(y='peak fraction',x='ChIP-seq peaks',hue='compartment',data=countDf)\n",
    "        plt.xticks(rotation=90)\n",
    "    else:\n",
    "        sns.barplot(y='peak fraction',x='compartment',data=countDf)\n",
    "    if saveName is not None:\n",
    "        plt.savefig(saveName)\n",
    "        \n",
    "def compartmentCountPeakDf(peakDf,eigVecFile='../data/binnedBedgraphs/ES_E1.bg',labelString=None):\n",
    "    peakCenterDf=pd.DataFrame(peakDf['chrom'])\n",
    "    peakCenterDf['start']=(peakDf.start+peakDf.end)//2\n",
    "    peakCenterDf['end']=peakCenterDf.start+1\n",
    "    peakBt=pybedtools.bedtool.BedTool.from_dataframe(peakCenterDf)\n",
    "    eigVecBt=pybedtools.BedTool(eigVecFile)\n",
    "    intersectDf=peakBt.intersect(eigVecBt,wb=True).to_dataframe()[['chrom','start','end','thickStart']].rename(columns={'thickStart':'E1'})\n",
    "    comp=['A' if E1>0 else 'B' for E1 in intersectDf.E1]\n",
    "    intersectDf['compartment']=comp\n",
    "    peakCount=intersectDf.shape[0]\n",
    "    countDf=(intersectDf.compartment.value_counts()/peakCount).reset_index().rename(columns={'index':'compartment','compartment':'peak fraction'})\n",
    "    if labelString is not None:\n",
    "        countDf['ChIP-seq peaks']=labelString\n",
    "    return countDf\n",
    "\n",
    "def chromhmmLabelPeakDf(peakDf,chromHmmFile='../data/chromhmm/ENCFF215ZKG_mm9mm10liftOver.bed'):\n",
    "    peakCenterDf=pd.DataFrame(peakDf['chrom'])\n",
    "    peakCenterDf['start']=(peakDf.start+peakDf.end)//2\n",
    "    peakCenterDf['end']=peakCenterDf.start+1\n",
    "    peakBt=pybedtools.bedtool.BedTool.from_dataframe(peakCenterDf)\n",
    "    chromhmmBt=pybedtools.BedTool(chromHmmFile)\n",
    "    return peakBt.intersect(chromhmmBt,wb=True).to_dataframe()[['chrom','start','end','thickStart']].rename(columns={'thickStart':'chromHMM'})\n",
    "\n",
    "def mergeChromhmmPeaksToSignal(peakDfChromHMM,signalCol, binsize=5000,flank=0,supports=supports, signalDf=signalDf):\n",
    "    windows = snipping.make_bin_aligned_windows(\n",
    "        binsize,\n",
    "        peakDfChromHMM['chrom'],\n",
    "        (peakDfChromHMM['start'] + peakDfChromHMM['end'])//2,\n",
    "        flank_bp=flank)\n",
    "    windows=windows.join(peakDfChromHMM['chromHMM'])\n",
    "    windows=windows.merge(pd.DataFrame(supports,columns=['chrom','zero','chromsize']),how='left',on='chrom')\n",
    "    windows=windows[(windows.end<windows.chromsize) & (windows.start>0)].drop_duplicates()\n",
    "    windows=windows.loc[(windows.chrom!='chrX')&(windows.chrom!='chrY')&(windows.chrom!='chrM'),:]\n",
    "    return windows.merge(signalDf[['chrom','start','end',signalCol]],how='left',on=['chrom','start','end'])\n",
    "\n",
    "def makeChromhmmBoxPlot(plotDf,plotCol='yin2019_crossoversCast1C_binned_weightedScore_medianNormalized', yLabel='Crossover score', legendLabel='median across DSB peak bins', palette=palette,chromHMMdict=chromHMMdict,saveName=None):\n",
    "    plt.figure()\n",
    "    ax1=sns.boxplot(x='chromHMM', y=plotCol, data=plotDf, palette=palette, showfliers=False, showcaps=False, whiskerprops={'color':(0.5,0.5,0.5), 'linestyle':'dotted'})\n",
    "    ax1.set_xticklabels([chromHMMdict[int(ticklabel.get_text())] for ticklabel in ax1.get_xticklabels()])\n",
    "    for item in ax1.get_xticklabels():\n",
    "        item.set_rotation(90)\n",
    "    plt.axhline(y=plotDf[plotCol].median(), linestyle='--', color='grey', label=legendLabel)\n",
    "\n",
    "    plt.ylabel(yLabel)\n",
    "    plt.legend()\n",
    "    if saveName is not None:\n",
    "        plt.savefig(saveName)"
   ]
  },
  {
   "cell_type": "code",
   "execution_count": null,
   "metadata": {},
   "outputs": [],
   "source": [
    "peakFiles=glob.glob('../data/peakBeds/*')\n",
    "peakDfDict=dict(zip([os.path.basename(file).split('.')[0] for file in peakFiles],[getPeakDf(file) for file in peakFiles]))\n",
    "\n",
    "saveDir='../outputs/'\n",
    "\n",
    "eigVecDf=pd.read_csv('../data/binnedBedgraphs/ES_E1.bg',header=None,names=['chrom','start','end','E1'],sep=\"\\t\") #eigenvector file ES_E1.bg generated using getHiCtracks.py on ES Hi-C\n",
    "eigVecDf['compartment']=['A' if E1>0 else 'B' for E1 in eigVecDf.E1]\n",
    "compartmentCoverageDf=(eigVecDf.compartment.value_counts()/eigVecDf.shape[0]).reset_index().rename(columns={'index':'compartment','compartment':'peak fraction'})\n",
    "compartmentCoverageDf['ChIP-seq peaks']='genome\\ncoverage'"
   ]
  },
  {
   "cell_type": "code",
   "execution_count": null,
   "metadata": {},
   "outputs": [],
   "source": [
    "compartmentCountDfs=[compartmentCountPeakDf(peakDfDict['Baker2015_prdm9_B6xCAST_peaks'],labelString='PRDM9 B6xCAST (Baker 2015)'),\n",
    "                     compartmentCountPeakDf(peakDfDict['grey2017orig_PRDM9_B6_class1_peaks'],labelString='PRDM9 B6Class 1 (Grey 2017)'),\n",
    "                     compartmentCountPeakDf(peakDfDict['grey2017orig_PRDM9_RJ2_class1_peaks'],labelString='PRDM9 CAST Class 1 (Grey 2017)'),\n",
    "                     compartmentCountPeakDf(peakDfDict['grey2017orig_PRDM9_B6_class2_peaks'],labelString='PRDM9 B6 Class 2 (Grey 2017)'),\n",
    "                     compartmentCountPeakDf(peakDfDict['grey2017orig_PRDM9_RJ2_class2_peaks'],labelString='PRDM9 CAST Class 2 (Grey 2017)'),\n",
    "                     compartmentCountPeakDf(peakDfDict['smagulova2016_B6xCAST_DSB_fraglen1000_peaks'],labelString='DMC1-SSDS\\n(DSB)'),\n",
    "                    compartmentCoverageDf]\n",
    "compartmentCountDf=pd.concat(compartmentCountDfs)\n",
    "plotCompartmentFractions(compartmentCountDf,saveName=f\"{saveDir}/PRDM9_DSB_ABcompFracs.pdf\")\n",
    "compartmentCountDf\n"
   ]
  },
  {
   "cell_type": "code",
   "execution_count": null,
   "metadata": {},
   "outputs": [],
   "source": [
    "compartmentCountDfs=[compartmentCountPeakDf(peakDfDict['Nitzsche2011_ESC_RAD21_peaks'],labelString='ES RAD21'),\n",
    "                     compartmentCountPeakDf(peakDfDict['Nitzsche2011_ESC_CTCF_peaks'],labelString='ES CTCF'),\n",
    "                     compartmentCountPeakDf(peakDfDict['ES_RNAP2_peaks'],labelString='ES RNAPII'),\n",
    "                     compartmentCountPeakDf(peakDfDict['vara2019_PDrad21l_peaks'],labelString='Meiotic RAD21L'),\n",
    "                     compartmentCountPeakDf(peakDfDict['vara2019_PDrec8_peaks'],labelString='Meiotic REC8'),\n",
    "                     compartmentCountPeakDf(peakDfDict['vara2019_PDctcf_peaks'],labelString='Meiotic CTCF'),\n",
    "                     compartmentCountPeakDf(peakDfDict['margolin2014RNAPII16dpp_peaks'],labelString='Meiotic RNAPII'),\n",
    "                    compartmentCoverageDf]\n",
    "compartmentCountDf=pd.concat(compartmentCountDfs)\n",
    "plotCompartmentFractions(compartmentCountDf,saveName=f\"{saveDir}/RNAPcohesinCTCF_ABcompFracs.pdf\")\n",
    "compartmentCountDf"
   ]
  },
  {
   "cell_type": "code",
   "execution_count": null,
   "metadata": {},
   "outputs": [],
   "source": [
    "peakDf=peakDfDict['smagulova2016_B6xCAST_DSB_fraglen1000_peaks']\n",
    "signalCol='yin2019_crossoversCast1C_binned_weightedScore_medianNormalized'\n",
    "plotDf=mergeChromhmmPeaksToSignal(chromhmmLabelPeakDf(peakDf),signalCol=signalCol)\n",
    "makeChromhmmBoxPlot(plotDf, saveName=f\"{saveDir}/DSBtoCO_chromhmmBoxplot.pdf\")"
   ]
  },
  {
   "cell_type": "code",
   "execution_count": null,
   "metadata": {},
   "outputs": [],
   "source": [
    "peakDf=peakDfDict['Baker2015_prdm9_B6xCAST_peaks']\n",
    "signalCol='yin2019_crossoversCast1C_binned_weightedScore_medianNormalized'\n",
    "plotDf=mergeChromhmmPeaksToSignal(chromhmmLabelPeakDf(peakDf),signalCol=signalCol)\n",
    "makeChromhmmBoxPlot(plotDf,plotCol=signalCol, yLabel='Crossover score', legendLabel='median across PRDM9 peak bins', saveName=f\"{saveDir}/PRDM9toCO_chromhmmBoxplot.pdf\")"
   ]
  },
  {
   "cell_type": "code",
   "execution_count": null,
   "metadata": {},
   "outputs": [],
   "source": [
    "peakDf=peakDfDict['Baker2015_prdm9_B6xCAST_peaks']\n",
    "signalCol='smagulova2016_B6xCAST_DSB_fraglen1000'\n",
    "plotDf=mergeChromhmmPeaksToSignal(chromhmmLabelPeakDf(peakDf),signalCol=signalCol)\n",
    "makeChromhmmBoxPlot(plotDf,plotCol=signalCol, yLabel='DMC1 ChIP-seq\\n(DSB) score', legendLabel='median across PRDM9 peak bins', saveName=f\"{saveDir}/PRDM9toDSB_chromhmmBoxplot.pdf\")"
   ]
  }
 ],
 "metadata": {
  "kernelspec": {
   "display_name": "Python 3",
   "language": "python",
   "name": "python3"
  },
  "language_info": {
   "codemirror_mode": {
    "name": "ipython",
    "version": 3
   },
   "file_extension": ".py",
   "mimetype": "text/x-python",
   "name": "python",
   "nbconvert_exporter": "python",
   "pygments_lexer": "ipython3",
   "version": "3.7.6"
  }
 },
 "nbformat": 4,
 "nbformat_minor": 4
}
