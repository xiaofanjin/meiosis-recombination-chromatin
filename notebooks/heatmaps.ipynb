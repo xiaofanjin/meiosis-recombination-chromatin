{
 "cells": [
  {
   "cell_type": "code",
   "execution_count": null,
   "metadata": {},
   "outputs": [],
   "source": [
    "from cooltools import snipping\n",
    "import cooler\n",
    "import pandas as pd\n",
    "from scipy.stats import ttest_ind\n",
    "import numpy as np\n",
    "import pybedtools\n",
    "import bioframe\n",
    "import seaborn as sns\n",
    "import matplotlib.pyplot as plt\n",
    "import glob\n",
    "import os"
   ]
  },
  {
   "cell_type": "code",
   "execution_count": null,
   "metadata": {},
   "outputs": [],
   "source": [
    "plt.rcParams.update({'font.size': 24})\n",
    "chromsizes=bioframe.fetch_chromsizes('mm10')\n",
    "chromosomes = list(chromsizes.index)\n",
    "supports = [(chrom, 0, chromsizes[chrom]) for chrom in chromosomes]\n",
    "\n",
    "binsDf=pd.read_csv('/path/to/mm10bin5kb.bed',sep='\\t',header=None,names=['chrom','start','end']) #bin file can be made with cooler makebins, binsize = 5000\n",
    "\n",
    "signalFiles=glob.glob('/path/to/binned/bedgraphs/*')\n",
    "signalDf=binsDf.copy()\n",
    "for signalFile in signalFiles:\n",
    "    signalDf=signalDf.merge(pd.read_csv(signalFile,sep=\"\\t\", header=None,names=['chrom','start','end',os.path.basename(signalFile).split('.')[0]]),how='left',on=['chrom','start','end'])\n",
    "    signalDf.drop_duplicates(subset=['chrom','start','end'],inplace=True)\n",
    "signalDf['zygo_interhomologRatio']=signalDf.zygonema_lucasHap_homo_cisCov/signalDf.zygo_cisCov\n",
    "signalDf['pachy_interhomologRatio']=signalDf.pachynema_lucasHap_homo_cisCov/signalDf.pachy_cisCov\n",
    "\n"
   ]
  },
  {
   "cell_type": "code",
   "execution_count": null,
   "metadata": {},
   "outputs": [],
   "source": [
    "def splitQuantile(toSplit,splitOn,quantiles=4):\n",
    "    quantileLims=np.linspace(0,len(toSplit),quantiles+1).astype(int)\n",
    "    sortedArray=splitOn[toSplit].sort_values().index.to_numpy()\n",
    "    quantiles=[sortedArray[quantileLims[ind]:quantileLims[ind+1]] for ind in range(quantiles)]\n",
    "    return quantiles\n",
    "\n",
    "def getPeakInds(peakFile,binsize=5000,flank=300000,supports=supports):\n",
    "    peakDf=pd.read_csv(peakFile,header=None,sep=\"\\t\",names=['chrom','start','end','name','score','strand','signalValue','pvalue','qvalue','peak'])\n",
    "    windows = snipping.make_bin_aligned_windows(\n",
    "        binsize,\n",
    "        peakDf['chrom'],\n",
    "        (peakDf['start'] + peakDf['end'])//2,\n",
    "        flank_bp=flank)\n",
    "    windows=windows.merge(pd.DataFrame(supports,columns=['chrom','zero','chromsize']),how='left',on='chrom')\n",
    "    windows=windows[(windows.end<windows.chromsize) & (windows.start>0)].drop_duplicates()\n",
    "    windows=windows.loc[(windows.chrom!='chrX')&(windows.chrom!='chrY')&(windows.chrom!='chrM'),:]\n",
    "    startInds=binsDf.reset_index().merge(windows[['chrom','start']],how='inner',on=['chrom','start'])['index']\n",
    "    endInds=binsDf.reset_index().merge(windows[['chrom','end']],how='inner',on=['chrom','end'])['index']\n",
    "    indDf=pd.DataFrame({'startInd':startInds,'endInd':endInds})\n",
    "    return ((indDf.startInd+indDf.endInd)//2).values\n",
    "\n",
    "def makeTracePlots(posListDict, signalLabelsDf, rowOrder=None,colOrder=None,palette=None, numBins=121, saveName=None, df=signalDf, avgType='median', aspectRatio=1.2, shareColAxes='stretch'):\n",
    "    return None\n",
    "def makeHeatmap(posListDict, varDict, showSignificance=True, saveName=None, df=signalDf):\n",
    "    numVars=len(varDict.keys())\n",
    "    heatmapArray=np.zeros((len(posListDict), numVars))\n",
    "    pValArray=np.zeros(numVars)\n",
    "    for varInd,var in enumerate(varDict):\n",
    "        scores=[]\n",
    "        for posListInd,posListKey in enumerate(posListDict):\n",
    "            posList=posListDict[posListKey]\n",
    "            heatmapArray[posListInd,varInd]=np.log(df[var][posList].mean()/df[var].mean())\n",
    "            scores.append(df[var][posList].values)\n",
    "        pValArray[varInd]=ttest_ind(scores[2],scores[1])[1]*numVars\n",
    "    starList=['*' if (pVal<0.01) else 'n.s.' for pVal in pValArray]\n",
    "    heatMapDf=pd.DataFrame(heatmapArray,columns=[varDict[varKey] for varKey in varDict], index=posListDict.keys())\n",
    "    plt.figure(figsize=(1.5*numVars,1.5*len(posListDict)))\n",
    "    absVmax=1.1*np.max(np.abs(heatMapDf.values))\n",
    "    ax=sns.heatmap(heatMapDf, cmap='seismic', center=0, vmin=-absVmax, vmax = absVmax, square=True, annot=True, cbar_kws={'fraction':0.04, 'label':'Log-enrichment'})\n",
    "    ax.hlines([0,1], color='k', *ax.get_xlim())\n",
    "    ax.vlines([1,2,3], color='k', *ax.get_ylim())\n",
    "    if showSignificance==True:\n",
    "        newTickLabels=[tickLabel.get_text()+' ('+starList[ind]+')' for ind,tickLabel in enumerate(ax.get_xticklabels())]\n",
    "        ax.set_xticklabels(newTickLabels)\n",
    "    plt.yticks(rotation=0)\n",
    "    plt.xticks(rotation=90)\n",
    "    if saveName!=None:\n",
    "        plt.savefig(saveName)\n"
   ]
  },
  {
   "cell_type": "code",
   "execution_count": null,
   "metadata": {},
   "outputs": [],
   "source": [
    "peakFiles=glob.glob('/path/to/peak/bed/files/*')\n",
    "peakFile=peakFiles[0]\n",
    "peakIndsDict=dict(zip([os.path.basename(file).split('.')[0] for file in peakFiles],[getPeakInds(file) for file in peakFiles]))\n",
    "saveDir='/path/to/save/outputs/'"
   ]
  },
  {
   "cell_type": "code",
   "execution_count": null,
   "metadata": {},
   "outputs": [],
   "source": [
    "chromhmmVarDict={'chromHMMstate_1_binned':'H3K4me3', \n",
    "       'chromHMMstate_2_binned':'H3K4me1/3',\n",
    "       'chromHMMstate_3_binned':'H3K4me1',\n",
    "       'chromHMMstate_4_binned':'H3K4me1+\\nH3K36me3',\n",
    "       'chromHMMstate_5_binned':'H3K36me3',\n",
    "       'chromHMMstate_6_binned':'Unmarked',\n",
    "       'chromHMMstate_7_binned':'H3K27me3'}\n",
    "recombVarDict={'Baker2015_prdm9_B6xCAST':'PRDM9 ChIP-seq', \n",
    "       'smagulova2016_B6xCAST_DSB_fraglen1000':'DMC1-SSDS\\nChIP-seq (DSB)',\n",
    "       'yin2019_crossoversCast1C_binned_weightedScore_medianNormalized':'Crossover score'}"
   ]
  },
  {
   "cell_type": "code",
   "execution_count": null,
   "metadata": {},
   "outputs": [],
   "source": [
    "greyPrdm9castSplitonDMC=splitQuantile(peakIndsDict['grey2017orig_PRDM9_RJ2_class1_peaks'],signalDf.smagulova2016_B6xCAST_DSB_fraglen1000)\n",
    "greyPrdm9castPeakListDict={'Grey PRDM9CAST sites (all)':peakIndsDict['grey2017orig_PRDM9_RJ2_class1_peaks'],\n",
    "                   'Grey PRDM9CAST sites (top-DSB)':greyPrdm9castSplitonDMC[-1],\n",
    "                   'Grey PRDM9CAST sites (bottom-DSB)':greyPrdm9castSplitonDMC[0]}\n",
    "\n",
    "prdm9SplitonDMC=splitQuantile(peakIndsDict['Baker2015_prdm9_B6xCAST_peaks'],signalDf.smagulova2016_B6xCAST_DSB_fraglen1000)\n",
    "prdm9PeakListDict={'PRDM9 sites\\n(all)':peakIndsDict['Baker2015_prdm9_B6xCAST_peaks'],\n",
    "                   'PRDM9 sites\\n(top-DSB)':prdm9SplitonDMC[-1],\n",
    "                   'PRDM9 sites\\n(bottom-DSB)':prdm9SplitonDMC[0]}\n",
    "\n",
    "DMCSplitonCO=splitQuantile(peakIndsDict['smagulova2016_B6xCAST_DSB_fraglen1000_peaks'],signalDf.yin2019_crossoversCast1C_binned_weightedScore_medianNormalized)\n",
    "DSBPeakListDict={'DSB sites\\n(all)':peakIndsDict['smagulova2016_B6xCAST_DSB_fraglen1000_peaks'],\n",
    "                   'DSB sites\\n(top-CO)':DMCSplitonCO[-1],\n",
    "                   'DSB sites\\n(bottom-CO)':DMCSplitonCO[0]}\n",
    "\n",
    "prdm9SplitonCO=splitQuantile(peakIndsDict['Baker2015_prdm9_B6xCAST_peaks'],signalDf.yin2019_crossoversCast1C_binned_weightedScore_medianNormalized)\n",
    "prdm9SplitCOPeakListDict={'PRDM9 sites\\n(all)':peakIndsDict['Baker2015_prdm9_B6xCAST_peaks'],\n",
    "                   'PRDM9 sites\\n(top-CO)':prdm9SplitonCO[-1],\n",
    "                   'PRDM9 sites\\n(bottom-CO)':prdm9SplitonCO[0]}"
   ]
  },
  {
   "cell_type": "code",
   "execution_count": null,
   "metadata": {},
   "outputs": [],
   "source": [
    "makeHeatmap(posListDict=DSBPeakListDict, varDict=chromhmmVarDict, saveName=saveDir+'/dsb_chromhmm_heatmap.pdf')\n",
    "makeHeatmap(posListDict=DSBPeakListDict, varDict=recombVarDict, saveName=saveDir+'/dsb_recomb_heatmap.pdf')\n",
    "makeHeatmap(posListDict=prdm9PeakListDict, varDict=chromhmmVarDict, saveName=saveDir+'/prdm9_chromhmm_heatmap.pdf')\n",
    "makeHeatmap(posListDict=prdm9PeakListDict, varDict=recombVarDict, saveName=saveDir+'/prdm9_recomb_heatmap.pdf')\n",
    "makeHeatmap(posListDict=prdm9SplitCOPeakListDict, varDict=chromhmmVarDict, saveName=saveDir+'/prdm9splitCO_chromhmm_heatmap.pdf')\n",
    "makeHeatmap(posListDict=prdm9SplitCOPeakListDict, varDict=recombVarDict, saveName=saveDir+'/prdm9splitCO_recomb_heatmap.pdf')"
   ]
  },
  {
   "cell_type": "code",
   "execution_count": null,
   "metadata": {},
   "outputs": [],
   "source": [
    "greyPrdm9castSplitonDMC=splitQuantile(peakIndsDict['grey2017orig_PRDM9_RJ2_class1_peaks'],signalDf.smagulova2016_B6xCAST_DSB_fraglen1000)\n",
    "greyPrdm9castPeakListDict={'Grey PRDM9-CAST sites\\n(Class 1 - all)':peakIndsDict['grey2017orig_PRDM9_RJ2_class1_peaks'],\n",
    "                   'Grey PRDM9-CAST sites\\n(top-DSB)':greyPrdm9castSplitonDMC[-1],\n",
    "                   'Grey PRDM9-CAST sites\\n(bottom-DSB)':greyPrdm9castSplitonDMC[0]}\n",
    "\n",
    "greyPrdm9b6SplitonDMC=splitQuantile(peakIndsDict['grey2017orig_PRDM9_B6_class1_peaks'],signalDf.smagulova2016_B6xCAST_DSB_fraglen1000)\n",
    "greyPrdm9b6PeakListDict={'Grey PRDM9-B6 sites\\n(Class 1 - all)':peakIndsDict['grey2017orig_PRDM9_B6_class1_peaks'],\n",
    "                   'Grey PRDM9-B6 sites\\n(top-DSB)':greyPrdm9b6SplitonDMC[-1],\n",
    "                   'Grey PRDM9-B6 sites\\n(bottom-DSB)':greyPrdm9b6SplitonDMC[0]}\n",
    "\n",
    "greyPrdm9allPeakListDict={'Grey PRDM9-B6 sites\\n(Class 1)':peakIndsDict['grey2017orig_PRDM9_B6_class1_peaks'],\n",
    "                          'Grey PRDM9-B6 sites\\n(Class 2)':peakIndsDict['grey2017orig_PRDM9_B6_class2_peaks'],\n",
    "                          'Grey PRDM9-CAST sites\\n(Class 1)':peakIndsDict['grey2017orig_PRDM9_RJ2_class1_peaks'],\n",
    "                          'Grey PRDM9-CAST sites\\n(Class 2)':peakIndsDict['grey2017orig_PRDM9_RJ2_class2_peaks']}\n",
    "\n",
    "cohesinPeakListDict={'Meiotic RAD21L sites':peakIndsDict['vara2019_RSrad21l_peaks'],\n",
    "                          'Meiotic REC8 sites':peakIndsDict['vara2019_RSrec8_peaks'],\n",
    "                          'ES RAD21 sites':peakIndsDict['Nitzsche2011_ESC_RAD21_peaks']}\n",
    "\n",
    "makeHeatmap(posListDict=greyPrdm9castPeakListDict, varDict=chromhmmVarDict, saveName=saveDir+'/greyprdm9cast_chromhmm_heatmap.pdf')\n",
    "makeHeatmap(posListDict=greyPrdm9castPeakListDict, varDict=recombVarDict, saveName=saveDir+'/greyprdm9cast_recomb_heatmap.pdf')\n",
    "makeHeatmap(posListDict=greyPrdm9b6PeakListDict, varDict=chromhmmVarDict, saveName=saveDir+'/greyprdm9b6_chromhmm_heatmap.pdf')\n",
    "makeHeatmap(posListDict=greyPrdm9b6PeakListDict, varDict=recombVarDict, saveName=saveDir+'/greyprdm9b6_recomb_heatmap.pdf')\n",
    "makeHeatmap(posListDict=greyPrdm9allPeakListDict, varDict=chromhmmVarDict, showSignificance=False,saveName=saveDir+'/greyprdm9all_chromhmm_heatmap.pdf')\n",
    "makeHeatmap(posListDict=greyPrdm9allPeakListDict, varDict=recombVarDict, showSignificance=False,saveName=saveDir+'/greyprdm9all_recomb_heatmap.pdf')\n",
    "makeHeatmap(posListDict=cohesinPeakListDict, varDict=chromhmmVarDict, showSignificance=False,saveName=saveDir+'/cohesins_chromhmm_heatmap.pdf')\n"
   ]
  }
 ],
 "metadata": {
  "kernelspec": {
   "display_name": "Python 3",
   "language": "python",
   "name": "python3"
  },
  "language_info": {
   "codemirror_mode": {
    "name": "ipython",
    "version": 3
   },
   "file_extension": ".py",
   "mimetype": "text/x-python",
   "name": "python",
   "nbconvert_exporter": "python",
   "pygments_lexer": "ipython3",
   "version": "3.7.6"
  }
 },
 "nbformat": 4,
 "nbformat_minor": 4
}
