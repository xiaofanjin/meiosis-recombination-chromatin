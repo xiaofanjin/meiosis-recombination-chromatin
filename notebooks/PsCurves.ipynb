{
 "cells": [
  {
   "cell_type": "code",
   "execution_count": null,
   "metadata": {},
   "outputs": [],
   "source": [
    "import cooler\n",
    "import cooltools.expected\n",
    "import bioframe\n",
    "import cooltools.eigdecomp\n",
    "import cooltools.lib.numutils\n",
    "import pandas as pd\n",
    "import matplotlib.pyplot as plt\n",
    "from matplotlib import gridspec\n",
    "import numpy as np\n",
    "import seaborn as sns\n",
    "plt.rcParams.update({'font.size': 16})\n",
    "saveDir='/path/to/outputs/'"
   ]
  },
  {
   "cell_type": "code",
   "execution_count": null,
   "metadata": {},
   "outputs": [],
   "source": [
    "def plotCurves(cooler, E1=eigVec.E1, regionDf=regionDf, saveName=None):\n",
    "    nonBbins=np.where(~(E1<0))[0]\n",
    "    nonAbins=np.where(~(E1>0))[0]\n",
    "    binSize=cooler.binsize\n",
    "    cvd = cooltools.expected.diagsum(\n",
    "        clr=cooler,\n",
    "        regions=regionDf,\n",
    "        transforms={'balanced': lambda p: p['count']*p['weight1']*p['weight2']},\n",
    "        bad_bins=nonAbins\n",
    "    )\n",
    "    lb_cvd, lb_slopes, lb_distbins = cooltools.expected.logbin_expected(cvd)\n",
    "    lb_cvd_agg, lb_slopes_agg = cooltools.expected.combine_binned_expected(\n",
    "        lb_cvd,\n",
    "        binned_exp_slope=lb_slopes\n",
    "    )\n",
    "    fig, ax = plt.subplots(2,1)\n",
    "    ax[0].loglog(lb_cvd_agg['diag.avg']*binSize,lb_cvd_agg['balanced.avg'],label='A-comp')\n",
    "    ax[1].semilogx(lb_slopes_agg['diag.avg']*binSize,lb_slopes_agg.slope,label='A-comp')\n",
    "    cvd = cooltools.expected.diagsum(\n",
    "        clr=cooler,\n",
    "        regions=regionDf,\n",
    "        transforms={'balanced': lambda p: p['count']*p['weight1']*p['weight2']},\n",
    "        bad_bins=nonBbins\n",
    "    )\n",
    "    lb_cvd, lb_slopes, lb_distbins = cooltools.expected.logbin_expected(cvd)\n",
    "    lb_cvd_agg, lb_slopes_agg = cooltools.expected.combine_binned_expected(\n",
    "        lb_cvd,\n",
    "        binned_exp_slope=lb_slopes\n",
    "    )\n",
    "    ax[0].loglog(lb_cvd_agg['diag.avg']*binSize,lb_cvd_agg['balanced.avg'],label='B-comp')\n",
    "    ax[1].semilogx(lb_slopes_agg['diag.avg']*binSize,lb_slopes_agg.slope,label='B-comp')\n",
    "    ax[0].legend()\n",
    "    ax[1].legend()\n",
    "    ax[0].set_title(coolerKey)\n",
    "    ax[0].set_ylabel('P(s)')\n",
    "    ax[1].set_ylabel('P(s) slope')\n",
    "    ax[1].set_xlabel('distance (bp)')\n",
    "    if saveName is not None:\n",
    "        fig.savefig(saveName)"
   ]
  },
  {
   "cell_type": "code",
   "execution_count": null,
   "metadata": {},
   "outputs": [],
   "source": [
    "regionDf=pd.DataFrame(bioframe.fetch_chromsizes('mm10'))\n",
    "regionDf['start']=0\n",
    "regionDf=regionDf[['start','length']]\n",
    "regionDf.reset_index(inplace=True)\n",
    "regionDf.rename(columns={'length':'end','index':'chrom'},inplace=True)\n",
    "\n",
    "ES=cooler.Cooler('/path/to/ES.mcool::resolutions/20000') #From Bonev et al 2017\n",
    "bins = ES.bins()[:]\n",
    "fasta_records = bioframe.load_fasta('/path/to/mm10.fa')\n",
    "bins = bioframe.genomeops.frac_gc(bins, fasta_records)\n",
    "\n",
    "eigVal,eigVec=cooltools.eigdecomp.cooler_cis_eig(ES, bins=bins,phasing_track_col='GC')\n",
    "\n",
    "meioticCoolersDict={\n",
    "'zygonema':cooler.Cooler('/path/to/zygonema.mcool::resolutions/20000'), #from Patel et al 2019\n",
    "'pachynema':cooler.Cooler('/path/to/pachynema.mcool::resolutions/20000'), #from Patel et al 2019\n",
    "'PAC':cooler.Cooler('/path/to/PAC.mcool::resolutions/20000'), #from Wang et al 2019\n",
    "'PS':cooler.Cooler('/path/to/PS.mcool::resolutions/20000') #from Alavattam et al 2019\n",
    "}\n"
   ]
  },
  {
   "cell_type": "code",
   "execution_count": null,
   "metadata": {},
   "outputs": [],
   "source": [
    "for coolerKey in meioticCoolersDict:\n",
    "    plotCurves(meioticCoolersDict[coolerKey],saveName=f'{saveDir}/{coolerKey}_psCurves.pdf')"
   ]
  },
  {
   "cell_type": "code",
   "execution_count": null,
   "metadata": {},
   "outputs": [],
   "source": [
    "mitotic30=cooler.Cooler('/path/to/GSM2745849_JHGHiC-DT40CDK1as-WT-20150609-30m-R1.10000.cool') #from Gibcus et al 2018\n",
    "mitoticG2=cooler.Cooler('/path/to/GSM2745846_JHGHiC-DT40CDK1as-WT-20150609-G2-R1.10000.cool')\n",
    "\n",
    "bins = mitoticG2.bins()[:]\n",
    "fasta_records = bioframe.load_fasta('/path/to/galGal5.fa')\n",
    "bins = bioframe.genomeops.frac_gc(bins, fasta_records)\n",
    "eigVal,eigVecGG5=cooltools.eigdecomp.cooler_cis_eig(mitoticG2, bins=bins,phasing_track_col='GC')\n",
    "\n",
    "regionDfGG5=pd.read_csv('/path/to/galGal5.chrom.sizes', header=None, delim_whitespace=True,names=['chrom','end'])\n",
    "regionDfGG5['start']=0\n",
    "regionDfGG5=regionDfGG5.loc[regionDfGG5.chrom.isin(eigVecGG5.chrom.unique()),:]\n",
    "regionDfGG5=regionDfGG5.set_index('chrom').reindex(eigVecGG5.chrom.unique()).reset_index()[['chrom','start','end']]\n"
   ]
  },
  {
   "cell_type": "code",
   "execution_count": null,
   "metadata": {},
   "outputs": [],
   "source": [
    "mitoticCoolersDict={\n",
    "'mitotic30':mitotic30,\n",
    "'mitoticG2':mitoticG2\n",
    "}\n",
    "for coolerKey in mitoticCoolersDict:\n",
    "    plotCurves(mitoticCoolersDict[coolerKey], E1=eigVecGG5.E1, regionDf=regionDfGG5, saveName=f'{saveDir}/{coolerKey}_psCurves.pdf')"
   ]
  }
 ],
 "metadata": {
  "kernelspec": {
   "display_name": "Python 3",
   "language": "python",
   "name": "python3"
  },
  "language_info": {
   "codemirror_mode": {
    "name": "ipython",
    "version": 3
   },
   "file_extension": ".py",
   "mimetype": "text/x-python",
   "name": "python",
   "nbconvert_exporter": "python",
   "pygments_lexer": "ipython3",
   "version": "3.7.6"
  }
 },
 "nbformat": 4,
 "nbformat_minor": 2
}
